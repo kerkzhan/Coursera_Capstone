{
 "cells": [
  {
   "cell_type": "markdown",
   "metadata": {},
   "source": [
    "# Import libraries"
   ]
  },
  {
   "cell_type": "code",
   "execution_count": 1,
   "metadata": {},
   "outputs": [
    {
     "name": "stdout",
     "output_type": "stream",
     "text": [
      "Collecting package metadata (current_repodata.json): done\n",
      "Solving environment: done\n",
      "\n",
      "## Package Plan ##\n",
      "\n",
      "  environment location: /home/jupyterlab/conda/envs/python\n",
      "\n",
      "  added / updated specs:\n",
      "    - lxml\n",
      "\n",
      "\n",
      "The following packages will be downloaded:\n",
      "\n",
      "    package                    |            build\n",
      "    ---------------------------|-----------------\n",
      "    ca-certificates-2020.1.1   |                0         125 KB\n",
      "    certifi-2020.4.5.1         |           py36_0         155 KB\n",
      "    libxslt-1.1.33             |       h7d1a2b0_0         426 KB\n",
      "    lxml-4.5.0                 |   py36hefd8a0e_0         1.4 MB\n",
      "    openssl-1.1.1g             |       h7b6447c_0         2.5 MB\n",
      "    ------------------------------------------------------------\n",
      "                                           Total:         4.6 MB\n",
      "\n",
      "The following NEW packages will be INSTALLED:\n",
      "\n",
      "  libxslt            pkgs/main/linux-64::libxslt-1.1.33-h7d1a2b0_0\n",
      "  lxml               pkgs/main/linux-64::lxml-4.5.0-py36hefd8a0e_0\n",
      "\n",
      "The following packages will be SUPERSEDED by a higher-priority channel:\n",
      "\n",
      "  ca-certificates    conda-forge::ca-certificates-2020.4.5~ --> pkgs/main::ca-certificates-2020.1.1-0\n",
      "  certifi            conda-forge::certifi-2020.4.5.1-py36h~ --> pkgs/main::certifi-2020.4.5.1-py36_0\n",
      "  openssl            conda-forge::openssl-1.1.1g-h516909a_0 --> pkgs/main::openssl-1.1.1g-h7b6447c_0\n",
      "\n",
      "\n",
      "\n",
      "Downloading and Extracting Packages\n",
      "ca-certificates-2020 | 125 KB    | ##################################### | 100% \n",
      "lxml-4.5.0           | 1.4 MB    | ##################################### | 100% \n",
      "openssl-1.1.1g       | 2.5 MB    | ##################################### | 100% \n",
      "certifi-2020.4.5.1   | 155 KB    | ##################################### | 100% \n",
      "libxslt-1.1.33       | 426 KB    | ##################################### | 100% \n",
      "Preparing transaction: done\n",
      "Verifying transaction: done\n",
      "Executing transaction: done\n"
     ]
    }
   ],
   "source": [
    "import pandas as pd\n",
    "import numpy as np\n",
    "!conda install lxml --yes"
   ]
  },
  {
   "cell_type": "markdown",
   "metadata": {},
   "source": [
    "# Problem 1: Web Scraping"
   ]
  },
  {
   "cell_type": "code",
   "execution_count": 85,
   "metadata": {},
   "outputs": [
    {
     "data": {
      "text/plain": [
       "(103, 3)"
      ]
     },
     "execution_count": 85,
     "metadata": {},
     "output_type": "execute_result"
    }
   ],
   "source": [
    "#retrieve any tables from HTML website that have <table> tags\n",
    "tables = pd.read_html(\"http://en.wikipedia.org/wiki/List_of_postal_codes_of_Canada:_M\", header=0)\n",
    "\n",
    "df = tables[0]\n",
    "\n",
    "# remove not assigned boroughs from the data frame\n",
    "df = df[df.Borough != \"Not assigned\"]\n",
    "\n",
    "# data has no duplicates and neighborhoods are already joined so I just have to reset the index\n",
    "df = df.reset_index()\n",
    "df = df.drop('index', axis = 1)\n",
    "df.shape"
   ]
  },
  {
   "cell_type": "markdown",
   "metadata": {},
   "source": [
    "# Problem 2: Preparing Data\n",
    "## Download csv"
   ]
  },
  {
   "cell_type": "markdown",
   "metadata": {},
   "source": [
    "\n"
   ]
  },
  {
   "cell_type": "code",
   "execution_count": 86,
   "metadata": {},
   "outputs": [
    {
     "name": "stdout",
     "output_type": "stream",
     "text": [
      "--2020-05-18 11:41:20--  http://cocl.us/Geospatial_data\n",
      "Resolving cocl.us (cocl.us)... 158.85.108.83, 158.85.108.86, 169.48.113.194\n",
      "Connecting to cocl.us (cocl.us)|158.85.108.83|:80... connected.\n",
      "HTTP request sent, awaiting response... 301 Moved Permanently\n",
      "Location: https://cocl.us/Geospatial_data [following]\n",
      "--2020-05-18 11:41:20--  https://cocl.us/Geospatial_data\n",
      "Connecting to cocl.us (cocl.us)|158.85.108.83|:443... connected.\n",
      "HTTP request sent, awaiting response... 301 Moved Permanently\n",
      "Location: https://ibm.box.com/shared/static/9afzr83pps4pwf2smjjcf1y5mvgb18rr.csv [following]\n",
      "--2020-05-18 11:41:22--  https://ibm.box.com/shared/static/9afzr83pps4pwf2smjjcf1y5mvgb18rr.csv\n",
      "Resolving ibm.box.com (ibm.box.com)... 107.152.27.197\n",
      "Connecting to ibm.box.com (ibm.box.com)|107.152.27.197|:443... connected.\n",
      "HTTP request sent, awaiting response... 301 Moved Permanently\n",
      "Location: /public/static/9afzr83pps4pwf2smjjcf1y5mvgb18rr.csv [following]\n",
      "--2020-05-18 11:41:22--  https://ibm.box.com/public/static/9afzr83pps4pwf2smjjcf1y5mvgb18rr.csv\n",
      "Reusing existing connection to ibm.box.com:443.\n",
      "HTTP request sent, awaiting response... 301 Moved Permanently\n",
      "Location: https://ibm.ent.box.com/public/static/9afzr83pps4pwf2smjjcf1y5mvgb18rr.csv [following]\n",
      "--2020-05-18 11:41:22--  https://ibm.ent.box.com/public/static/9afzr83pps4pwf2smjjcf1y5mvgb18rr.csv\n",
      "Resolving ibm.ent.box.com (ibm.ent.box.com)... 107.152.29.211\n",
      "Connecting to ibm.ent.box.com (ibm.ent.box.com)|107.152.29.211|:443... connected.\n",
      "HTTP request sent, awaiting response... 302 Found\n",
      "Location: https://public.boxcloud.com/d/1/b1!YtINOAVxL0tupe9BhQ06TuR5raYBIwfh6JCEGe_LPYVlcWb5J_p5gTY7fJnbFlmuuEj0BMJ6ypFiG08RYCfCaFKJ48s76Emrkehg9ubP39iiwT5HcRK7jbKLm5la5bTA5LZyFACX4m3tmsL2HT7mw9rQ7UwWceFNC8IysxChriV_t7n7flU5ZdF0m1K5VhZ9_OlMkHgoOS3rPfn5WvVAPNq0D8amDioZ4GBYIvteTAEAuCW4KVaOe1azpA5vaPVEFN6KzEW5JuqoCHFp6LMwgQH2roOCn7Q1CtoX9BnGpYLN4Rw2_F50Sbv0FL4FHjt-vBW0pMLm9T19E8suoVUjN9SjocyqIONGTXXaKB5E_NdDrGvj3kt9ruCQCSLg1ezWfzWkIgBDX8dBjvI0kVfpEzlofrOYEEhH72tRv6Ee5Ha5qTRu-V9Klas2fPoVwFyxg5Y9cc_c0Iiy6p1NOt_9IX2c6GxrvRhAYmz6gOwy0dG7QeTmS4wV9lqPRnOnLjOJTd-cLiuINsojpCuyNA8RdG8fYtMhrT_OgTXflk8sbzHt2P02QD0I1GDouuJraMs_ZeUG5pPjWXl_f3ciTsN6PqUIne37AmwxopT5fzO2SUAN9HDfY98cP8RdmQLY4tu9d9Ntx1gIn4CEB8m_4JHlHBMUF_cHe9Gfr7cLMqjET_vlSHhYpukioOBtWTs5TMhoq05Ux_i6nl0lh1_OrhIM8kJzvpwsOOO04KJcCnJ7TF2TojVu2cpTiK_RjL9utYOCSgDm6jn_zyfqqXuJ8wJ2tO-IG3_KbHpgLdmvv2uql_hp8-zOf7m-GJmomOBUdHHJ_2J2Bd-LEkI4dpxiq8nGRJ32-3SixbWkteYSDzxvTBJ3D6EqBkjoz_mNOSm97FUjtZTbM1rYziMDAjwgSs42uXUmUY12D3pWVayxRynzPWJLhCQcz5OgV-8FOIqkEP-TvuSJ1TpLZBnuOoqkm9j3qmhoJFL4mE2lHprG_6QkTllDfI5ei-6D2SG01pLUxR4QsTKHXJ8fGhzmxLIbMDcFtfM6_zofvF1fSVXLTRpJoGptyXSMLP3XKTynbsjcugFTw_RY9ajmItomlW5tIkNFdwxM6FO1-oLZnzGBpJVucyBnrtyBoAGWGtYSE-htShQIvynCqF8hVOc0OBQ5iQ2RjFlY5HYAyAwaG3y-kU9_ua6z3FDj2VTRhAwyLS3wUo0vfKW9A0jMtdyqOQBqrIEuDBeQoyXHKZNDirJ7owqKo-yGGg81kLYx0Vgxf9LNPI60iroWf0fB8QAAJ2xUJlWkuGneSicgdCrNtM4dPf_PKeluF_T_6tQYLL51OoytuuHfS9VZTHa6Cjx56VJH8rdZyHnr6mUUapLBlmn-gSIBX-m0Z00KGdeL1481EUeHAzjods-TUQCFCIeDrpxU1_6SROyr8UsZS5Tnd0PJxJtc2onk/download [following]\n",
      "--2020-05-18 11:41:23--  https://public.boxcloud.com/d/1/b1!YtINOAVxL0tupe9BhQ06TuR5raYBIwfh6JCEGe_LPYVlcWb5J_p5gTY7fJnbFlmuuEj0BMJ6ypFiG08RYCfCaFKJ48s76Emrkehg9ubP39iiwT5HcRK7jbKLm5la5bTA5LZyFACX4m3tmsL2HT7mw9rQ7UwWceFNC8IysxChriV_t7n7flU5ZdF0m1K5VhZ9_OlMkHgoOS3rPfn5WvVAPNq0D8amDioZ4GBYIvteTAEAuCW4KVaOe1azpA5vaPVEFN6KzEW5JuqoCHFp6LMwgQH2roOCn7Q1CtoX9BnGpYLN4Rw2_F50Sbv0FL4FHjt-vBW0pMLm9T19E8suoVUjN9SjocyqIONGTXXaKB5E_NdDrGvj3kt9ruCQCSLg1ezWfzWkIgBDX8dBjvI0kVfpEzlofrOYEEhH72tRv6Ee5Ha5qTRu-V9Klas2fPoVwFyxg5Y9cc_c0Iiy6p1NOt_9IX2c6GxrvRhAYmz6gOwy0dG7QeTmS4wV9lqPRnOnLjOJTd-cLiuINsojpCuyNA8RdG8fYtMhrT_OgTXflk8sbzHt2P02QD0I1GDouuJraMs_ZeUG5pPjWXl_f3ciTsN6PqUIne37AmwxopT5fzO2SUAN9HDfY98cP8RdmQLY4tu9d9Ntx1gIn4CEB8m_4JHlHBMUF_cHe9Gfr7cLMqjET_vlSHhYpukioOBtWTs5TMhoq05Ux_i6nl0lh1_OrhIM8kJzvpwsOOO04KJcCnJ7TF2TojVu2cpTiK_RjL9utYOCSgDm6jn_zyfqqXuJ8wJ2tO-IG3_KbHpgLdmvv2uql_hp8-zOf7m-GJmomOBUdHHJ_2J2Bd-LEkI4dpxiq8nGRJ32-3SixbWkteYSDzxvTBJ3D6EqBkjoz_mNOSm97FUjtZTbM1rYziMDAjwgSs42uXUmUY12D3pWVayxRynzPWJLhCQcz5OgV-8FOIqkEP-TvuSJ1TpLZBnuOoqkm9j3qmhoJFL4mE2lHprG_6QkTllDfI5ei-6D2SG01pLUxR4QsTKHXJ8fGhzmxLIbMDcFtfM6_zofvF1fSVXLTRpJoGptyXSMLP3XKTynbsjcugFTw_RY9ajmItomlW5tIkNFdwxM6FO1-oLZnzGBpJVucyBnrtyBoAGWGtYSE-htShQIvynCqF8hVOc0OBQ5iQ2RjFlY5HYAyAwaG3y-kU9_ua6z3FDj2VTRhAwyLS3wUo0vfKW9A0jMtdyqOQBqrIEuDBeQoyXHKZNDirJ7owqKo-yGGg81kLYx0Vgxf9LNPI60iroWf0fB8QAAJ2xUJlWkuGneSicgdCrNtM4dPf_PKeluF_T_6tQYLL51OoytuuHfS9VZTHa6Cjx56VJH8rdZyHnr6mUUapLBlmn-gSIBX-m0Z00KGdeL1481EUeHAzjods-TUQCFCIeDrpxU1_6SROyr8UsZS5Tnd0PJxJtc2onk/download\n",
      "Resolving public.boxcloud.com (public.boxcloud.com)... 107.152.27.200\n",
      "Connecting to public.boxcloud.com (public.boxcloud.com)|107.152.27.200|:443... connected.\n",
      "HTTP request sent, awaiting response... 200 OK\n",
      "Length: 2891 (2.8K) [text/csv]\n",
      "Saving to: ‘Geospatial_data’\n",
      "\n",
      "Geospatial_data     100%[===================>]   2.82K  --.-KB/s    in 0s      \n",
      "\n",
      "2020-05-18 11:41:23 (5.94 MB/s) - ‘Geospatial_data’ saved [2891/2891]\n",
      "\n"
     ]
    }
   ],
   "source": [
    "!wget http://cocl.us/Geospatial_data"
   ]
  },
  {
   "cell_type": "markdown",
   "metadata": {},
   "source": [
    "## Merge both data frames"
   ]
  },
  {
   "cell_type": "code",
   "execution_count": 102,
   "metadata": {},
   "outputs": [
    {
     "data": {
      "text/html": [
       "<div>\n",
       "<style scoped>\n",
       "    .dataframe tbody tr th:only-of-type {\n",
       "        vertical-align: middle;\n",
       "    }\n",
       "\n",
       "    .dataframe tbody tr th {\n",
       "        vertical-align: top;\n",
       "    }\n",
       "\n",
       "    .dataframe thead th {\n",
       "        text-align: right;\n",
       "    }\n",
       "</style>\n",
       "<table border=\"1\" class=\"dataframe\">\n",
       "  <thead>\n",
       "    <tr style=\"text-align: right;\">\n",
       "      <th></th>\n",
       "      <th>Postal Code</th>\n",
       "      <th>Latitude</th>\n",
       "      <th>Longitude</th>\n",
       "    </tr>\n",
       "  </thead>\n",
       "  <tbody>\n",
       "    <tr>\n",
       "      <th>0</th>\n",
       "      <td>M1B</td>\n",
       "      <td>43.806686</td>\n",
       "      <td>-79.194353</td>\n",
       "    </tr>\n",
       "    <tr>\n",
       "      <th>1</th>\n",
       "      <td>M1C</td>\n",
       "      <td>43.784535</td>\n",
       "      <td>-79.160497</td>\n",
       "    </tr>\n",
       "    <tr>\n",
       "      <th>2</th>\n",
       "      <td>M1E</td>\n",
       "      <td>43.763573</td>\n",
       "      <td>-79.188711</td>\n",
       "    </tr>\n",
       "    <tr>\n",
       "      <th>3</th>\n",
       "      <td>M1G</td>\n",
       "      <td>43.770992</td>\n",
       "      <td>-79.216917</td>\n",
       "    </tr>\n",
       "    <tr>\n",
       "      <th>4</th>\n",
       "      <td>M1H</td>\n",
       "      <td>43.773136</td>\n",
       "      <td>-79.239476</td>\n",
       "    </tr>\n",
       "    <tr>\n",
       "      <th>...</th>\n",
       "      <td>...</td>\n",
       "      <td>...</td>\n",
       "      <td>...</td>\n",
       "    </tr>\n",
       "    <tr>\n",
       "      <th>98</th>\n",
       "      <td>M9N</td>\n",
       "      <td>43.706876</td>\n",
       "      <td>-79.518188</td>\n",
       "    </tr>\n",
       "    <tr>\n",
       "      <th>99</th>\n",
       "      <td>M9P</td>\n",
       "      <td>43.696319</td>\n",
       "      <td>-79.532242</td>\n",
       "    </tr>\n",
       "    <tr>\n",
       "      <th>100</th>\n",
       "      <td>M9R</td>\n",
       "      <td>43.688905</td>\n",
       "      <td>-79.554724</td>\n",
       "    </tr>\n",
       "    <tr>\n",
       "      <th>101</th>\n",
       "      <td>M9V</td>\n",
       "      <td>43.739416</td>\n",
       "      <td>-79.588437</td>\n",
       "    </tr>\n",
       "    <tr>\n",
       "      <th>102</th>\n",
       "      <td>M9W</td>\n",
       "      <td>43.706748</td>\n",
       "      <td>-79.594054</td>\n",
       "    </tr>\n",
       "  </tbody>\n",
       "</table>\n",
       "<p>103 rows × 3 columns</p>\n",
       "</div>"
      ],
      "text/plain": [
       "    Postal Code   Latitude  Longitude\n",
       "0           M1B  43.806686 -79.194353\n",
       "1           M1C  43.784535 -79.160497\n",
       "2           M1E  43.763573 -79.188711\n",
       "3           M1G  43.770992 -79.216917\n",
       "4           M1H  43.773136 -79.239476\n",
       "..          ...        ...        ...\n",
       "98          M9N  43.706876 -79.518188\n",
       "99          M9P  43.696319 -79.532242\n",
       "100         M9R  43.688905 -79.554724\n",
       "101         M9V  43.739416 -79.588437\n",
       "102         M9W  43.706748 -79.594054\n",
       "\n",
       "[103 rows x 3 columns]"
      ]
     },
     "execution_count": 102,
     "metadata": {},
     "output_type": "execute_result"
    }
   ],
   "source": [
    "geo = pd.read_csv(\"./Geospatial_data\")\n",
    "geo\n"
   ]
  },
  {
   "cell_type": "code",
   "execution_count": 93,
   "metadata": {},
   "outputs": [],
   "source": [
    "df_merged = pd.merge(df,geo,how='left')"
   ]
  },
  {
   "cell_type": "code",
   "execution_count": 95,
   "metadata": {},
   "outputs": [
    {
     "data": {
      "text/html": [
       "<div>\n",
       "<style scoped>\n",
       "    .dataframe tbody tr th:only-of-type {\n",
       "        vertical-align: middle;\n",
       "    }\n",
       "\n",
       "    .dataframe tbody tr th {\n",
       "        vertical-align: top;\n",
       "    }\n",
       "\n",
       "    .dataframe thead th {\n",
       "        text-align: right;\n",
       "    }\n",
       "</style>\n",
       "<table border=\"1\" class=\"dataframe\">\n",
       "  <thead>\n",
       "    <tr style=\"text-align: right;\">\n",
       "      <th></th>\n",
       "      <th>Postal Code</th>\n",
       "      <th>Borough</th>\n",
       "      <th>Neighborhood</th>\n",
       "      <th>Latitude</th>\n",
       "      <th>Longitude</th>\n",
       "    </tr>\n",
       "  </thead>\n",
       "  <tbody>\n",
       "    <tr>\n",
       "      <th>0</th>\n",
       "      <td>M3A</td>\n",
       "      <td>North York</td>\n",
       "      <td>Parkwoods</td>\n",
       "      <td>43.753259</td>\n",
       "      <td>-79.329656</td>\n",
       "    </tr>\n",
       "    <tr>\n",
       "      <th>1</th>\n",
       "      <td>M4A</td>\n",
       "      <td>North York</td>\n",
       "      <td>Victoria Village</td>\n",
       "      <td>43.725882</td>\n",
       "      <td>-79.315572</td>\n",
       "    </tr>\n",
       "    <tr>\n",
       "      <th>2</th>\n",
       "      <td>M5A</td>\n",
       "      <td>Downtown Toronto</td>\n",
       "      <td>Regent Park, Harbourfront</td>\n",
       "      <td>43.654260</td>\n",
       "      <td>-79.360636</td>\n",
       "    </tr>\n",
       "    <tr>\n",
       "      <th>3</th>\n",
       "      <td>M6A</td>\n",
       "      <td>North York</td>\n",
       "      <td>Lawrence Manor, Lawrence Heights</td>\n",
       "      <td>43.718518</td>\n",
       "      <td>-79.464763</td>\n",
       "    </tr>\n",
       "    <tr>\n",
       "      <th>4</th>\n",
       "      <td>M7A</td>\n",
       "      <td>Downtown Toronto</td>\n",
       "      <td>Queen's Park, Ontario Provincial Government</td>\n",
       "      <td>43.662301</td>\n",
       "      <td>-79.389494</td>\n",
       "    </tr>\n",
       "  </tbody>\n",
       "</table>\n",
       "</div>"
      ],
      "text/plain": [
       "  Postal Code           Borough                                 Neighborhood  \\\n",
       "0         M3A        North York                                    Parkwoods   \n",
       "1         M4A        North York                             Victoria Village   \n",
       "2         M5A  Downtown Toronto                    Regent Park, Harbourfront   \n",
       "3         M6A        North York             Lawrence Manor, Lawrence Heights   \n",
       "4         M7A  Downtown Toronto  Queen's Park, Ontario Provincial Government   \n",
       "\n",
       "    Latitude  Longitude  \n",
       "0  43.753259 -79.329656  \n",
       "1  43.725882 -79.315572  \n",
       "2  43.654260 -79.360636  \n",
       "3  43.718518 -79.464763  \n",
       "4  43.662301 -79.389494  "
      ]
     },
     "execution_count": 95,
     "metadata": {},
     "output_type": "execute_result"
    }
   ],
   "source": [
    "df_merged.head()"
   ]
  },
  {
   "cell_type": "markdown",
   "metadata": {},
   "source": [
    "# Problem 3: Exploring shenanigans\n",
    "## Import more stuff"
   ]
  },
  {
   "cell_type": "code",
   "execution_count": 97,
   "metadata": {},
   "outputs": [
    {
     "name": "stdout",
     "output_type": "stream",
     "text": [
      "Collecting geopy\n",
      "\u001b[?25l  Downloading https://files.pythonhosted.org/packages/ab/97/25def417bf5db4cc6b89b47a56961b893d4ee4fec0c335f5b9476a8ff153/geopy-1.22.0-py2.py3-none-any.whl (113kB)\n",
      "\u001b[K     |████████████████████████████████| 122kB 5.1MB/s eta 0:00:01\n",
      "\u001b[?25hCollecting geographiclib<2,>=1.49 (from geopy)\n",
      "  Downloading https://files.pythonhosted.org/packages/8b/62/26ec95a98ba64299163199e95ad1b0e34ad3f4e176e221c40245f211e425/geographiclib-1.50-py3-none-any.whl\n",
      "Installing collected packages: geographiclib, geopy\n",
      "Successfully installed geographiclib-1.50 geopy-1.22.0\n"
     ]
    }
   ],
   "source": [
    "from sklearn.cluster import KMeans\n",
    "import folium\n",
    "!pip install geopy\n",
    "from geopy.geocoders import Nominatim"
   ]
  },
  {
   "cell_type": "markdown",
   "metadata": {},
   "source": [
    "## Get langitude and longitude of Toronto"
   ]
  },
  {
   "cell_type": "code",
   "execution_count": 98,
   "metadata": {},
   "outputs": [
    {
     "name": "stdout",
     "output_type": "stream",
     "text": [
      "The geograpical coordinate of Toronto are 43.6534817, -79.3839347.\n"
     ]
    }
   ],
   "source": [
    "address = 'Toronto, ON'\n",
    "\n",
    "geolocator = Nominatim(user_agent=\"ON_explorer\")\n",
    "location = geolocator.geocode(address)\n",
    "latitude = location.latitude\n",
    "longitude = location.longitude\n",
    "print('The geograpical coordinate of Toronto are {}, {}.'.format(latitude, longitude))"
   ]
  },
  {
   "cell_type": "markdown",
   "metadata": {},
   "source": [
    "## Merge data frames"
   ]
  },
  {
   "cell_type": "code",
   "execution_count": 99,
   "metadata": {},
   "outputs": [
    {
     "data": {
      "text/html": [
       "<div>\n",
       "<style scoped>\n",
       "    .dataframe tbody tr th:only-of-type {\n",
       "        vertical-align: middle;\n",
       "    }\n",
       "\n",
       "    .dataframe tbody tr th {\n",
       "        vertical-align: top;\n",
       "    }\n",
       "\n",
       "    .dataframe thead th {\n",
       "        text-align: right;\n",
       "    }\n",
       "</style>\n",
       "<table border=\"1\" class=\"dataframe\">\n",
       "  <thead>\n",
       "    <tr style=\"text-align: right;\">\n",
       "      <th></th>\n",
       "      <th>Postal Code</th>\n",
       "      <th>Borough</th>\n",
       "      <th>Neighborhood</th>\n",
       "      <th>Latitude</th>\n",
       "      <th>Longitude</th>\n",
       "    </tr>\n",
       "  </thead>\n",
       "  <tbody>\n",
       "    <tr>\n",
       "      <th>0</th>\n",
       "      <td>M5A</td>\n",
       "      <td>Downtown Toronto</td>\n",
       "      <td>Regent Park, Harbourfront</td>\n",
       "      <td>43.654260</td>\n",
       "      <td>-79.360636</td>\n",
       "    </tr>\n",
       "    <tr>\n",
       "      <th>1</th>\n",
       "      <td>M7A</td>\n",
       "      <td>Downtown Toronto</td>\n",
       "      <td>Queen's Park, Ontario Provincial Government</td>\n",
       "      <td>43.662301</td>\n",
       "      <td>-79.389494</td>\n",
       "    </tr>\n",
       "    <tr>\n",
       "      <th>2</th>\n",
       "      <td>M5B</td>\n",
       "      <td>Downtown Toronto</td>\n",
       "      <td>Garden District, Ryerson</td>\n",
       "      <td>43.657162</td>\n",
       "      <td>-79.378937</td>\n",
       "    </tr>\n",
       "    <tr>\n",
       "      <th>3</th>\n",
       "      <td>M5C</td>\n",
       "      <td>Downtown Toronto</td>\n",
       "      <td>St. James Town</td>\n",
       "      <td>43.651494</td>\n",
       "      <td>-79.375418</td>\n",
       "    </tr>\n",
       "    <tr>\n",
       "      <th>4</th>\n",
       "      <td>M4E</td>\n",
       "      <td>East Toronto</td>\n",
       "      <td>The Beaches</td>\n",
       "      <td>43.676357</td>\n",
       "      <td>-79.293031</td>\n",
       "    </tr>\n",
       "  </tbody>\n",
       "</table>\n",
       "</div>"
      ],
      "text/plain": [
       "  Postal Code           Borough                                 Neighborhood  \\\n",
       "0         M5A  Downtown Toronto                    Regent Park, Harbourfront   \n",
       "1         M7A  Downtown Toronto  Queen's Park, Ontario Provincial Government   \n",
       "2         M5B  Downtown Toronto                     Garden District, Ryerson   \n",
       "3         M5C  Downtown Toronto                               St. James Town   \n",
       "4         M4E      East Toronto                                  The Beaches   \n",
       "\n",
       "    Latitude  Longitude  \n",
       "0  43.654260 -79.360636  \n",
       "1  43.662301 -79.389494  \n",
       "2  43.657162 -79.378937  \n",
       "3  43.651494 -79.375418  \n",
       "4  43.676357 -79.293031  "
      ]
     },
     "execution_count": 99,
     "metadata": {},
     "output_type": "execute_result"
    }
   ],
   "source": [
    "df_ON = df_merged[df_merged['Borough'].str.contains('Toronto')].reset_index(drop=True)\n",
    "df_ON.head()"
   ]
  },
  {
   "cell_type": "code",
   "execution_count": null,
   "metadata": {},
   "outputs": [],
   "source": [
    "## Place a blue marker in the cluster of Boroughs with Toronto in their name"
   ]
  },
  {
   "cell_type": "code",
   "execution_count": 116,
   "metadata": {},
   "outputs": [
    {
     "data": {
      "text/html": [
       "<div style=\"width:100%;\"><div style=\"position:relative;width:100%;height:0;padding-bottom:60%;\"><span style=\"color:#565656\">Make this Notebook Trusted to load map: File -> Trust Notebook</span><iframe src=\"about:blank\" style=\"position:absolute;width:100%;height:100%;left:0;top:0;border:none !important;\" data-html=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 onload=\"this.contentDocument.open();this.contentDocument.write(atob(this.getAttribute('data-html')));this.contentDocument.close();\" allowfullscreen webkitallowfullscreen mozallowfullscreen></iframe></div></div>"
      ],
      "text/plain": [
       "<folium.folium.Map at 0x7f3e8fba1048>"
      ]
     },
     "execution_count": 116,
     "metadata": {},
     "output_type": "execute_result"
    }
   ],
   "source": [
    "T_map = folium.Map(location = [latitude,longitude],zoom_start = 12)\n",
    "\n",
    "for lat, lng, borough, neighborhood in zip(df_ON['Latitude'], df_ON['Longitude'], df_ON['Borough'], df_ON['Neighborhood']):\n",
    "    popup_label = folium.Popup(str(neighborhood) + ' | ' + str(borough).upper(), parse_html=True)\n",
    "    folium.CircleMarker(\n",
    "      [lat,lng],\n",
    "      radius = 5,\n",
    "      popup = popup_label, \n",
    "      color='blue', \n",
    "      fill = True, \n",
    "      fill_color = 'blue', \n",
    "      fill_opacity = 0.5).add_to(T_map)\n",
    "T_map"
   ]
  },
  {
   "cell_type": "code",
   "execution_count": null,
   "metadata": {},
   "outputs": [],
   "source": []
  }
 ],
 "metadata": {
  "kernelspec": {
   "display_name": "Python",
   "language": "python",
   "name": "conda-env-python-py"
  },
  "language_info": {
   "codemirror_mode": {
    "name": "ipython",
    "version": 3
   },
   "file_extension": ".py",
   "mimetype": "text/x-python",
   "name": "python",
   "nbconvert_exporter": "python",
   "pygments_lexer": "ipython3",
   "version": "3.6.10"
  }
 },
 "nbformat": 4,
 "nbformat_minor": 4
}
